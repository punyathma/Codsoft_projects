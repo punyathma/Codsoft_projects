{
  "cells": [
    {
      "cell_type": "markdown",
      "metadata": {
        "id": "n1diH63X29V4"
      },
      "source": [
        "# Import the libraries"
      ]
    },
    {
      "cell_type": "code",
      "execution_count": null,
      "metadata": {
        "id": "CobrOmpY27ZG"
      },
      "outputs": [],
      "source": [
        "import pandas as pd\n",
        "import numpy as np\n",
        "from sklearn.preprocessing import LabelEncoder\n",
        "from sklearn.model_selection import train_test_split\n",
        "from sklearn.feature_extraction.text import TfidfVectorizer\n",
        "from tensorflow.keras.models import Sequential\n",
        "from tensorflow.keras.layers import Dense, Embedding, LSTM, Bidirectional, GlobalMaxPool1D\n",
        "from tensorflow.keras.preprocessing.text import Tokenizer\n",
        "from tensorflow.keras.preprocessing.sequence import pad_sequences\n",
        "from tensorflow.keras.callbacks import ModelCheckpoint\n",
        "from tensorflow.keras.models import load_model"
      ]
    },
    {
      "cell_type": "markdown",
      "metadata": {
        "id": "HWC-ztYD3IVq"
      },
      "source": [
        "# Step 1:  Load The Data"
      ]
    },
    {
      "cell_type": "code",
      "execution_count": null,
      "metadata": {
        "id": "tVyLFEcC3E39"
      },
      "outputs": [],
      "source": [
        "with open('/content/drive/MyDrive/movie genere/Genre Classification Dataset/train_data.txt', 'r', encoding='utf-8') as train_file:\n",
        "    train_lines_new = train_file.readlines()\n",
        "    train_data = [line.strip().split(' ::: ') for line in train_lines_new]\n",
        "\n",
        "with open('/content/drive/MyDrive/movie genere/Genre Classification Dataset/test_data.txt', 'r', encoding='utf-8') as test_file:\n",
        "    test_lines_new = test_file.readlines()\n",
        "    test_data = [line.strip().split(' ::: ') for line in test_lines_new]\n"
      ]
    },
    {
      "cell_type": "code",
      "execution_count": null,
      "metadata": {
        "id": "Y7Ddycyu38Lf"
      },
      "outputs": [],
      "source": [
        "with open('/content/drive/MyDrive/movie genere/Genre Classification Dataset/description.txt', 'r', encoding='utf-8') as desc_file:\n",
        "    descriptions = desc_file.readlines()"
      ]
    },
    {
      "cell_type": "markdown",
      "metadata": {
        "id": "pQRKjCDf5faP"
      },
      "source": [
        "Combine train_data and test_data descriptions\n"
      ]
    },
    {
      "cell_type": "code",
      "execution_count": null,
      "metadata": {
        "id": "95dUEvrp4CCR"
      },
      "outputs": [],
      "source": [
        "all_descriptions = [item[3] for item in train_data] + [item[2] for item in test_data] + descriptions"
      ]
    },
    {
      "cell_type": "markdown",
      "metadata": {
        "id": "pFgT4Tgw5pO3"
      },
      "source": [
        "Combine train_data and test_data labels"
      ]
    },
    {
      "cell_type": "code",
      "execution_count": null,
      "metadata": {
        "id": "IEi2e1zw5kcx"
      },
      "outputs": [],
      "source": [
        "labels = [item[2] for item in train_data] + [None for _ in test_data]"
      ]
    },
    {
      "cell_type": "markdown",
      "metadata": {
        "id": "lUyqvPJr5wki"
      },
      "source": [
        "# Step 2:  Data pre-processing"
      ]
    },
    {
      "cell_type": "markdown",
      "metadata": {
        "id": "UPRBpUtX59Dd"
      },
      "source": [
        "Tokenize text data"
      ]
    },
    {
      "cell_type": "code",
      "execution_count": null,
      "metadata": {
        "id": "xyYQI4QF6d-6"
      },
      "outputs": [],
      "source": [
        "from tensorflow.keras.preprocessing.text import Tokenizer"
      ]
    },
    {
      "cell_type": "code",
      "execution_count": null,
      "metadata": {
        "id": "eBu51cZJ53iX"
      },
      "outputs": [],
      "source": [
        "tokenizer = Tokenizer(num_words=10000)\n",
        "tokenizer.fit_on_texts(all_descriptions)"
      ]
    },
    {
      "cell_type": "markdown",
      "metadata": {
        "id": "2ZpcwvsA7LdK"
      },
      "source": [
        "Convert text data to sequences: Converting text to sequences is essential for machine learning and deep learning as it provides a numerical representation of text data, maintains order, enables fixed-length inputs, and facilitates efficient processing and feature extraction"
      ]
    },
    {
      "cell_type": "code",
      "execution_count": null,
      "metadata": {
        "id": "pk3R-B2I5-Z7"
      },
      "outputs": [],
      "source": [
        "sequences = tokenizer.texts_to_sequences(all_descriptions)"
      ]
    },
    {
      "cell_type": "code",
      "execution_count": null,
      "metadata": {
        "id": "ZXholy0f7X3p"
      },
      "outputs": [],
      "source": [
        "# Pading sequences to a fixed length\n",
        "max_sequence_length = 100  # adjusting this based on our data\n",
        "sequences = pad_sequences(sequences, maxlen=max_sequence_length)"
      ]
    },
    {
      "cell_type": "markdown",
      "metadata": {
        "id": "VpgOSDhu7iaq"
      },
      "source": [
        "\n",
        " Encode labels"
      ]
    },
    {
      "cell_type": "code",
      "execution_count": null,
      "metadata": {
        "id": "qf9WmGj37fpE"
      },
      "outputs": [],
      "source": [
        "label_encoder = LabelEncoder()\n",
        "encoded_labels = label_encoder.fit_transform(labels)"
      ]
    },
    {
      "cell_type": "markdown",
      "metadata": {
        "id": "Qefp2Jsk7k9n"
      },
      "source": [
        "Split sequences back into train and test parts"
      ]
    },
    {
      "cell_type": "code",
      "execution_count": null,
      "metadata": {
        "id": "9uYgTG457ob6"
      },
      "outputs": [],
      "source": [
        "train_sequences = sequences[:len(train_data)]\n",
        "test_sequences = sequences[len(train_data):len(train_data) + len(test_data)]"
      ]
    },
    {
      "cell_type": "markdown",
      "metadata": {
        "id": "xOKpc15j8EXi"
      },
      "source": [
        "# Step 3:  Model training"
      ]
    },
    {
      "cell_type": "code",
      "execution_count": null,
      "metadata": {
        "id": "7xmiFtn37_EI"
      },
      "outputs": [],
      "source": [
        "X_train, X_val, y_train, y_val = train_test_split(train_sequences, encoded_labels[:len(train_data)], test_size=0.2, random_state=42)"
      ]
    },
    {
      "cell_type": "markdown",
      "metadata": {
        "id": "8qs-O2pp8V_5"
      },
      "source": [
        "constructing a sequentail model"
      ]
    },
    {
      "cell_type": "code",
      "execution_count": null,
      "metadata": {
        "id": "xF7dVQoE8S5p"
      },
      "outputs": [],
      "source": [
        "model = Sequential()\n",
        "model.add(Embedding(input_dim=10000, output_dim=128, input_length=max_sequence_length))\n",
        "model.add(Bidirectional(LSTM(128, return_sequences=True)))\n",
        "model.add(GlobalMaxPool1D())\n",
        "model.add(Dense(64, activation='relu'))\n",
        "model.add(Dense(len(label_encoder.classes_), activation='softmax'))"
      ]
    },
    {
      "cell_type": "markdown",
      "metadata": {
        "id": "U_hVZqaw8eQx"
      },
      "source": [
        "compileing the model"
      ]
    },
    {
      "cell_type": "code",
      "execution_count": null,
      "metadata": {
        "id": "PMqt9E5g8TsP"
      },
      "outputs": [],
      "source": [
        "model.compile(loss='sparse_categorical_crossentropy', optimizer='adam', metrics=['accuracy'])"
      ]
    },
    {
      "cell_type": "markdown",
      "metadata": {
        "id": "OWp2b-Y_8kAH"
      },
      "source": [
        "defining call backs to save the model"
      ]
    },
    {
      "cell_type": "code",
      "execution_count": null,
      "metadata": {
        "id": "s_abr6ME8kWD"
      },
      "outputs": [],
      "source": [
        "checkpoint = ModelCheckpoint('movie_genre_classifier_model.h5', monitor='val_accuracy', save_best_only=True, mode='max', verbose=1)\n",
        "callbacks_list = [checkpoint]\n"
      ]
    },
    {
      "cell_type": "markdown",
      "metadata": {
        "id": "N1M7noMY8uZA"
      },
      "source": [
        "model training"
      ]
    },
    {
      "cell_type": "code",
      "execution_count": null,
      "metadata": {
        "colab": {
          "base_uri": "https://localhost:8080/"
        },
        "id": "mZSyYAe68w7g",
        "outputId": "acbd3bab-4318-453b-b1f8-688c4aa58a46"
      },
      "outputs": [
        {
          "output_type": "stream",
          "name": "stdout",
          "text": [
            "Epoch 1/10\n",
            "1356/1356 [==============================] - ETA: 0s - loss: 1.9723 - accuracy: 0.4325\n",
            "Epoch 1: val_accuracy improved from -inf to 0.50890, saving model to movie_genre_classifier_model.h5\n",
            "1356/1356 [==============================] - 82s 54ms/step - loss: 1.9723 - accuracy: 0.4325 - val_loss: 1.6934 - val_accuracy: 0.5089\n",
            "Epoch 2/10\n",
            "  11/1356 [..............................] - ETA: 15s - loss: 1.6147 - accuracy: 0.5170"
          ]
        },
        {
          "output_type": "stream",
          "name": "stderr",
          "text": [
            "/usr/local/lib/python3.10/dist-packages/keras/src/engine/training.py:3000: UserWarning: You are saving your model as an HDF5 file via `model.save()`. This file format is considered legacy. We recommend using instead the native Keras format, e.g. `model.save('my_model.keras')`.\n",
            "  saving_api.save_model(\n"
          ]
        },
        {
          "output_type": "stream",
          "name": "stdout",
          "text": [
            "1356/1356 [==============================] - ETA: 0s - loss: 1.5196 - accuracy: 0.5618\n",
            "Epoch 2: val_accuracy improved from 0.50890 to 0.55132, saving model to movie_genre_classifier_model.h5\n",
            "1356/1356 [==============================] - 24s 17ms/step - loss: 1.5196 - accuracy: 0.5618 - val_loss: 1.5227 - val_accuracy: 0.5513\n",
            "Epoch 3/10\n",
            "1356/1356 [==============================] - ETA: 0s - loss: 1.2688 - accuracy: 0.6320\n",
            "Epoch 3: val_accuracy improved from 0.55132 to 0.55261, saving model to movie_genre_classifier_model.h5\n",
            "1356/1356 [==============================] - 20s 15ms/step - loss: 1.2688 - accuracy: 0.6320 - val_loss: 1.5382 - val_accuracy: 0.5526\n",
            "Epoch 4/10\n",
            "1356/1356 [==============================] - ETA: 0s - loss: 1.0876 - accuracy: 0.6778\n",
            "Epoch 4: val_accuracy did not improve from 0.55261\n",
            "1356/1356 [==============================] - 20s 15ms/step - loss: 1.0876 - accuracy: 0.6778 - val_loss: 1.6096 - val_accuracy: 0.5436\n",
            "Epoch 5/10\n",
            "1356/1356 [==============================] - ETA: 0s - loss: 0.9118 - accuracy: 0.7279\n",
            "Epoch 5: val_accuracy did not improve from 0.55261\n",
            "1356/1356 [==============================] - 18s 13ms/step - loss: 0.9118 - accuracy: 0.7279 - val_loss: 1.7151 - val_accuracy: 0.5319\n",
            "Epoch 6/10\n",
            "1356/1356 [==============================] - ETA: 0s - loss: 0.7290 - accuracy: 0.7788\n",
            "Epoch 6: val_accuracy did not improve from 0.55261\n",
            "1356/1356 [==============================] - 19s 14ms/step - loss: 0.7290 - accuracy: 0.7788 - val_loss: 1.8950 - val_accuracy: 0.5202\n",
            "Epoch 7/10\n",
            "1356/1356 [==============================] - ETA: 0s - loss: 0.5438 - accuracy: 0.8367\n",
            "Epoch 7: val_accuracy did not improve from 0.55261\n",
            "1356/1356 [==============================] - 18s 13ms/step - loss: 0.5438 - accuracy: 0.8367 - val_loss: 2.1629 - val_accuracy: 0.5131\n",
            "Epoch 8/10\n",
            "1356/1356 [==============================] - ETA: 0s - loss: 0.3700 - accuracy: 0.8899\n",
            "Epoch 8: val_accuracy did not improve from 0.55261\n",
            "1356/1356 [==============================] - 18s 13ms/step - loss: 0.3700 - accuracy: 0.8899 - val_loss: 2.5956 - val_accuracy: 0.5092\n",
            "Epoch 9/10\n",
            "1356/1356 [==============================] - ETA: 0s - loss: 0.2375 - accuracy: 0.9320\n",
            "Epoch 9: val_accuracy did not improve from 0.55261\n",
            "1356/1356 [==============================] - 19s 14ms/step - loss: 0.2375 - accuracy: 0.9320 - val_loss: 3.0326 - val_accuracy: 0.5044\n",
            "Epoch 10/10\n",
            "1356/1356 [==============================] - ETA: 0s - loss: 0.1421 - accuracy: 0.9610\n",
            "Epoch 10: val_accuracy did not improve from 0.55261\n",
            "1356/1356 [==============================] - 22s 16ms/step - loss: 0.1421 - accuracy: 0.9610 - val_loss: 3.5089 - val_accuracy: 0.4976\n"
          ]
        }
      ],
      "source": [
        "batch_size = 32\n",
        "epochs = 10\n",
        "history = model.fit(X_train, y_train, validation_data=(X_val, y_val), batch_size=batch_size, epochs=epochs, callbacks=callbacks_list)"
      ]
    },
    {
      "cell_type": "code",
      "source": [
        "from tensorflow.keras.models import load_model\n",
        "\n",
        "model.save('/content/drive/MyDrive/SAVED MODELS 1/moviegenere.h5')"
      ],
      "metadata": {
        "id": "72fRSq2vA-Lc",
        "colab": {
          "base_uri": "https://localhost:8080/",
          "height": 216
        },
        "outputId": "8cc16a5d-4b5d-42a0-8ede-3d82ce8627a4"
      },
      "execution_count": null,
      "outputs": [
        {
          "output_type": "error",
          "ename": "NameError",
          "evalue": "ignored",
          "traceback": [
            "\u001b[0;31m---------------------------------------------------------------------------\u001b[0m",
            "\u001b[0;31mNameError\u001b[0m                                 Traceback (most recent call last)",
            "\u001b[0;32m<ipython-input-3-d1553ae01ea5>\u001b[0m in \u001b[0;36m<cell line: 3>\u001b[0;34m()\u001b[0m\n\u001b[1;32m      1\u001b[0m \u001b[0;32mfrom\u001b[0m \u001b[0mtensorflow\u001b[0m\u001b[0;34m.\u001b[0m\u001b[0mkeras\u001b[0m\u001b[0;34m.\u001b[0m\u001b[0mmodels\u001b[0m \u001b[0;32mimport\u001b[0m \u001b[0mload_model\u001b[0m\u001b[0;34m\u001b[0m\u001b[0;34m\u001b[0m\u001b[0m\n\u001b[1;32m      2\u001b[0m \u001b[0;34m\u001b[0m\u001b[0m\n\u001b[0;32m----> 3\u001b[0;31m \u001b[0mmodel\u001b[0m\u001b[0;34m.\u001b[0m\u001b[0msave\u001b[0m\u001b[0;34m(\u001b[0m\u001b[0;34m'/content/drive/MyDrive/SAVED MODELS 1/moviegenere.h5'\u001b[0m\u001b[0;34m)\u001b[0m\u001b[0;34m\u001b[0m\u001b[0;34m\u001b[0m\u001b[0m\n\u001b[0m",
            "\u001b[0;31mNameError\u001b[0m: name 'model' is not defined"
          ]
        }
      ]
    },
    {
      "cell_type": "code",
      "source": [
        "from tensorflow.keras.models import load_model"
      ],
      "metadata": {
        "id": "_chheqyNdj3H"
      },
      "execution_count": null,
      "outputs": []
    },
    {
      "cell_type": "markdown",
      "source": [],
      "metadata": {
        "id": "EeBT6jxwDGS4"
      }
    },
    {
      "cell_type": "markdown",
      "source": [
        "# Step 4: Load the Trained Model and Make Predictions"
      ],
      "metadata": {
        "id": "PwiPCjg0Ds8j"
      }
    },
    {
      "cell_type": "code",
      "source": [
        "loaded_model = load_model('/content/drive/MyDrive/SAVED MODELS 1/moviegenere.h5')"
      ],
      "metadata": {
        "id": "bO_7pDG2CSIZ"
      },
      "execution_count": null,
      "outputs": []
    },
    {
      "cell_type": "code",
      "source": [
        "# Test the model with a sample movie summary\n",
        "movie_summary = [\" In The Secret Garden, a young girl named Mary, who is orphaned and lonely, discovers a hidden, neglected garden on her uncles estate. As she works to revive the garden, she also begins to heal emotionally and make new friends. This heartwarming story explores themes of growth, friendship, and the transformative power of nature.\"]\n",
        "movie_summary_sequence = tokenizer.texts_to_sequences(movie_summary)\n",
        "movie_summary_padded = pad_sequences(movie_summary_sequence, maxlen=max_sequence_length)\n",
        "predicted_label = loaded_model.predict(movie_summary_padded)\n",
        "\n",
        "predicted_genre = label_encoder.inverse_transform([np.argmax(predicted_label)])\n",
        "print(f\"Predicted Genre: {predicted_genre[0]}\")"
      ],
      "metadata": {
        "colab": {
          "base_uri": "https://localhost:8080/"
        },
        "id": "uk9I7kYZCIZw",
        "outputId": "12798f50-e5fb-466f-e09d-ca19f59a7986"
      },
      "execution_count": null,
      "outputs": [
        {
          "output_type": "stream",
          "name": "stdout",
          "text": [
            "1/1 [==============================] - 0s 21ms/step\n",
            "Predicted Genre: short\n"
          ]
        }
      ]
    },
    {
      "cell_type": "code",
      "source": [
        "import numpy as np\n",
        "from tensorflow.keras.models import load_model\n",
        "from tensorflow.keras.preprocessing.sequence import pad_sequences\n",
        "from tensorflow.keras.preprocessing.text import Tokenizer\n",
        "\n",
        "# Load the trained model\n",
        "loaded_model = load_model('/content/drive/MyDrive/SAVED MODELS 1/moviegenere.h5')\n",
        "\n",
        "# Define a sample movie summary for testing\n",
        "movie_summary = [\"A young wizard learns magic and battles dark forces.\"]\n",
        "\n",
        "# Tokenize and pad the movie summary\n",
        "tokenizer = Tokenizer(num_words=10000)\n",
        "tokenizer.fit_on_texts(movie_summary)\n",
        "movie_summary_sequence = tokenizer.texts_to_sequences(movie_summary)\n",
        "max_sequence_length = 100  # Use the same value as used during training\n",
        "movie_summary_padded = pad_sequences(movie_summary_sequence, maxlen=max_sequence_length)\n",
        "\n",
        "# Make predictions with the loaded model\n",
        "predicted_label = loaded_model.predict(movie_summary_padded)\n",
        "\n",
        "# Inverse transform the label to get the predicted genre\n",
        "predicted_genre = label_encoder.inverse_transform([np.argmax(predicted_label)])\n",
        "\n",
        "print(f\"Predicted Genre: {predicted_genre[0]}\")\n"
      ],
      "metadata": {
        "id": "f9zITlB0CJCF",
        "colab": {
          "base_uri": "https://localhost:8080/"
        },
        "outputId": "2f32ace3-f827-403f-a797-5b432352ef31"
      },
      "execution_count": null,
      "outputs": [
        {
          "output_type": "stream",
          "name": "stdout",
          "text": [
            "1/1 [==============================] - 1s 649ms/step\n",
            "Predicted Genre: short\n"
          ]
        }
      ]
    },
    {
      "cell_type": "code",
      "source": [],
      "metadata": {
        "id": "Bq5NaubseDTg"
      },
      "execution_count": null,
      "outputs": []
    }
  ],
  "metadata": {
    "accelerator": "GPU",
    "colab": {
      "provenance": []
    },
    "kernelspec": {
      "display_name": "Python 3",
      "name": "python3"
    },
    "language_info": {
      "name": "python"
    }
  },
  "nbformat": 4,
  "nbformat_minor": 0
}